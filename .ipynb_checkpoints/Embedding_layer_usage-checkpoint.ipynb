{
 "cells": [
  {
   "cell_type": "code",
   "execution_count": 3,
   "metadata": {
    "id": "vplWJRqVq2uf"
   },
   "outputs": [],
   "source": [
    "from tensorflow.keras.preprocessing.text import one_hot"
   ]
  },
  {
   "cell_type": "code",
   "execution_count": 3,
   "metadata": {
    "id": "4fjHGPRpkW-j"
   },
   "outputs": [],
   "source": []
  },
  {
   "cell_type": "code",
   "execution_count": 4,
   "metadata": {
    "id": "1FtK3SexrEGP"
   },
   "outputs": [],
   "source": [
    "sent=[\"the glass of milk\",\n",
    "      \"the glass of juice\",\n",
    "      \"the cup of tea\",\n",
    "      \"I am a good boy\",\n",
    "      \"I am a good developer\",\n",
    "      \"understand the meaning of words\",\n",
    "      \"your videos are good\"]"
   ]
  },
  {
   "cell_type": "code",
   "execution_count": 5,
   "metadata": {
    "id": "02yys0sqrwiG"
   },
   "outputs": [],
   "source": [
    "voc_size=10000"
   ]
  },
  {
   "cell_type": "code",
   "execution_count": 6,
   "metadata": {
    "colab": {
     "base_uri": "https://localhost:8080/"
    },
    "id": "e7IXK0YVr2zU",
    "outputId": "28f2ccdd-26c1-4be9-f1f8-71aa8ecfe1bc"
   },
   "outputs": [
    {
     "data": {
      "text/plain": [
       "[[2539, 5903, 6779, 6547],\n",
       " [2539, 5903, 6779, 8643],\n",
       " [2539, 3306, 6779, 8748],\n",
       " [6142, 50, 2369, 7669, 2726],\n",
       " [6142, 50, 2369, 7669, 9821],\n",
       " [99, 2539, 6819, 6779, 4757],\n",
       " [4904, 4385, 3633, 7669]]"
      ]
     },
     "execution_count": 6,
     "metadata": {},
     "output_type": "execute_result"
    }
   ],
   "source": [
    "one_hot_repr=[one_hot(words,voc_size) for words in sent]\n",
    "one_hot_repr"
   ]
  },
  {
   "cell_type": "code",
   "execution_count": 7,
   "metadata": {
    "id": "Tsn_v5C9sK-l"
   },
   "outputs": [],
   "source": [
    "import tensorflow"
   ]
  },
  {
   "cell_type": "code",
   "execution_count": 8,
   "metadata": {
    "id": "sZMNAddWk_BC"
   },
   "outputs": [],
   "source": [
    "from tensorflow.keras.layers import Embedding"
   ]
  },
  {
   "cell_type": "code",
   "execution_count": 9,
   "metadata": {
    "id": "2pFMxTXjlWmg"
   },
   "outputs": [],
   "source": [
    "from tensorflow.keras.utils import pad_sequences"
   ]
  },
  {
   "cell_type": "code",
   "execution_count": 10,
   "metadata": {
    "id": "5riM_qq9liAd"
   },
   "outputs": [],
   "source": [
    "from tensorflow.keras.models import Sequential"
   ]
  },
  {
   "cell_type": "code",
   "execution_count": 11,
   "metadata": {
    "id": "pCVGafMNvzDi"
   },
   "outputs": [],
   "source": [
    "import numpy as np"
   ]
  },
  {
   "cell_type": "code",
   "execution_count": 12,
   "metadata": {
    "id": "15nNc70DlpYO"
   },
   "outputs": [],
   "source": [
    "max_len=6"
   ]
  },
  {
   "cell_type": "code",
   "execution_count": 13,
   "metadata": {
    "colab": {
     "base_uri": "https://localhost:8080/"
    },
    "id": "unv4BDPinJ24",
    "outputId": "b39fa64a-c9ed-4631-8163-897fb868132a"
   },
   "outputs": [
    {
     "data": {
      "text/plain": [
       "array([[   0,    0, 2539, 5903, 6779, 6547],\n",
       "       [   0,    0, 2539, 5903, 6779, 8643],\n",
       "       [   0,    0, 2539, 3306, 6779, 8748],\n",
       "       [   0, 6142,   50, 2369, 7669, 2726],\n",
       "       [   0, 6142,   50, 2369, 7669, 9821],\n",
       "       [   0,   99, 2539, 6819, 6779, 4757],\n",
       "       [   0,    0, 4904, 4385, 3633, 7669]], dtype=int32)"
      ]
     },
     "execution_count": 13,
     "metadata": {},
     "output_type": "execute_result"
    }
   ],
   "source": [
    "paded_sequences=pad_sequences(one_hot_repr,maxlen=max_len)\n",
    "paded_sequences"
   ]
  },
  {
   "cell_type": "code",
   "execution_count": 13,
   "metadata": {
    "id": "XtEZmxM6waOo"
   },
   "outputs": [],
   "source": []
  },
  {
   "cell_type": "code",
   "execution_count": 14,
   "metadata": {
    "id": "spBJZTYHnXB9"
   },
   "outputs": [],
   "source": [
    "model=Sequential()\n",
    "model.add(Embedding(voc_size,10,mask_zero=True))\n",
    "model.compile('adam','mse')"
   ]
  },
  {
   "cell_type": "code",
   "execution_count": 15,
   "metadata": {
    "colab": {
     "base_uri": "https://localhost:8080/",
     "height": 181
    },
    "id": "XS278JB_uNL5",
    "outputId": "bf88be9f-b60b-420c-9f3e-a763d4670985"
   },
   "outputs": [
    {
     "data": {
      "text/html": [
       "<pre style=\"white-space:pre;overflow-x:auto;line-height:normal;font-family:Menlo,'DejaVu Sans Mono',consolas,'Courier New',monospace\"><span style=\"font-weight: bold\">Model: \"sequential\"</span>\n",
       "</pre>\n"
      ],
      "text/plain": [
       "\u001b[1mModel: \"sequential\"\u001b[0m\n"
      ]
     },
     "metadata": {},
     "output_type": "display_data"
    },
    {
     "data": {
      "text/html": [
       "<pre style=\"white-space:pre;overflow-x:auto;line-height:normal;font-family:Menlo,'DejaVu Sans Mono',consolas,'Courier New',monospace\">┏━━━━━━━━━━━━━━━━━━━━━━━━━━━━━━━━━━━━━━┳━━━━━━━━━━━━━━━━━━━━━━━━━━━━━┳━━━━━━━━━━━━━━━━━┓\n",
       "┃<span style=\"font-weight: bold\"> Layer (type)                         </span>┃<span style=\"font-weight: bold\"> Output Shape                </span>┃<span style=\"font-weight: bold\">         Param # </span>┃\n",
       "┡━━━━━━━━━━━━━━━━━━━━━━━━━━━━━━━━━━━━━━╇━━━━━━━━━━━━━━━━━━━━━━━━━━━━━╇━━━━━━━━━━━━━━━━━┩\n",
       "│ embedding (<span style=\"color: #0087ff; text-decoration-color: #0087ff\">Embedding</span>)                │ ?                           │     <span style=\"color: #00af00; text-decoration-color: #00af00\">0</span> (unbuilt) │\n",
       "└──────────────────────────────────────┴─────────────────────────────┴─────────────────┘\n",
       "</pre>\n"
      ],
      "text/plain": [
       "┏━━━━━━━━━━━━━━━━━━━━━━━━━━━━━━━━━━━━━━┳━━━━━━━━━━━━━━━━━━━━━━━━━━━━━┳━━━━━━━━━━━━━━━━━┓\n",
       "┃\u001b[1m \u001b[0m\u001b[1mLayer (type)                        \u001b[0m\u001b[1m \u001b[0m┃\u001b[1m \u001b[0m\u001b[1mOutput Shape               \u001b[0m\u001b[1m \u001b[0m┃\u001b[1m \u001b[0m\u001b[1m        Param #\u001b[0m\u001b[1m \u001b[0m┃\n",
       "┡━━━━━━━━━━━━━━━━━━━━━━━━━━━━━━━━━━━━━━╇━━━━━━━━━━━━━━━━━━━━━━━━━━━━━╇━━━━━━━━━━━━━━━━━┩\n",
       "│ embedding (\u001b[38;5;33mEmbedding\u001b[0m)                │ ?                           │     \u001b[38;5;34m0\u001b[0m (unbuilt) │\n",
       "└──────────────────────────────────────┴─────────────────────────────┴─────────────────┘\n"
      ]
     },
     "metadata": {},
     "output_type": "display_data"
    },
    {
     "data": {
      "text/html": [
       "<pre style=\"white-space:pre;overflow-x:auto;line-height:normal;font-family:Menlo,'DejaVu Sans Mono',consolas,'Courier New',monospace\"><span style=\"font-weight: bold\"> Total params: </span><span style=\"color: #00af00; text-decoration-color: #00af00\">0</span> (0.00 B)\n",
       "</pre>\n"
      ],
      "text/plain": [
       "\u001b[1m Total params: \u001b[0m\u001b[38;5;34m0\u001b[0m (0.00 B)\n"
      ]
     },
     "metadata": {},
     "output_type": "display_data"
    },
    {
     "data": {
      "text/html": [
       "<pre style=\"white-space:pre;overflow-x:auto;line-height:normal;font-family:Menlo,'DejaVu Sans Mono',consolas,'Courier New',monospace\"><span style=\"font-weight: bold\"> Trainable params: </span><span style=\"color: #00af00; text-decoration-color: #00af00\">0</span> (0.00 B)\n",
       "</pre>\n"
      ],
      "text/plain": [
       "\u001b[1m Trainable params: \u001b[0m\u001b[38;5;34m0\u001b[0m (0.00 B)\n"
      ]
     },
     "metadata": {},
     "output_type": "display_data"
    },
    {
     "data": {
      "text/html": [
       "<pre style=\"white-space:pre;overflow-x:auto;line-height:normal;font-family:Menlo,'DejaVu Sans Mono',consolas,'Courier New',monospace\"><span style=\"font-weight: bold\"> Non-trainable params: </span><span style=\"color: #00af00; text-decoration-color: #00af00\">0</span> (0.00 B)\n",
       "</pre>\n"
      ],
      "text/plain": [
       "\u001b[1m Non-trainable params: \u001b[0m\u001b[38;5;34m0\u001b[0m (0.00 B)\n"
      ]
     },
     "metadata": {},
     "output_type": "display_data"
    }
   ],
   "source": [
    "model.summary()"
   ]
  },
  {
   "cell_type": "code",
   "execution_count": 16,
   "metadata": {
    "colab": {
     "base_uri": "https://localhost:8080/"
    },
    "id": "vjMOcztouPXv",
    "outputId": "062bbbac-6398-41f5-d873-1c5cb8bddccc"
   },
   "outputs": [
    {
     "name": "stdout",
     "output_type": "stream",
     "text": [
      "\u001b[1m1/1\u001b[0m \u001b[32m━━━━━━━━━━━━━━━━━━━━\u001b[0m\u001b[37m\u001b[0m \u001b[1m0s\u001b[0m 220ms/step\n"
     ]
    }
   ],
   "source": [
    "hist=model.predict(paded_sequences)"
   ]
  },
  {
   "cell_type": "code",
   "execution_count": 17,
   "metadata": {
    "colab": {
     "base_uri": "https://localhost:8080/"
    },
    "id": "U7WBcJ2FwNrp",
    "outputId": "b16442a3-9482-4f1f-904e-dd17b8f72600"
   },
   "outputs": [
    {
     "data": {
      "text/plain": [
       "(7, 6, 10)"
      ]
     },
     "execution_count": 17,
     "metadata": {},
     "output_type": "execute_result"
    }
   ],
   "source": [
    "hist.shape"
   ]
  },
  {
   "cell_type": "code",
   "execution_count": 18,
   "metadata": {
    "colab": {
     "base_uri": "https://localhost:8080/"
    },
    "id": "Sla42ziwwwif",
    "outputId": "13ffc0c4-6579-4bec-95d7-1932d274d17e"
   },
   "outputs": [
    {
     "data": {
      "text/plain": [
       "array([[[ 0.01862862,  0.02298738,  0.02792073, -0.02577894,\n",
       "         -0.03828741, -0.0226774 , -0.03469499,  0.01050657,\n",
       "          0.02804624, -0.04093133],\n",
       "        [ 0.01862862,  0.02298738,  0.02792073, -0.02577894,\n",
       "         -0.03828741, -0.0226774 , -0.03469499,  0.01050657,\n",
       "          0.02804624, -0.04093133],\n",
       "        [-0.04834611,  0.04504747, -0.01640532, -0.00036701,\n",
       "         -0.0228478 , -0.03096981, -0.00750865,  0.04421773,\n",
       "          0.03371469, -0.00334699],\n",
       "        [ 0.0457134 ,  0.02169232,  0.02918868,  0.04747568,\n",
       "          0.0319267 ,  0.02785084,  0.00122889,  0.02996378,\n",
       "          0.01593195,  0.03460244],\n",
       "        [-0.04251385, -0.02884202, -0.01441225,  0.03013433,\n",
       "          0.01608754, -0.01455642,  0.00914544,  0.02508017,\n",
       "         -0.00052094,  0.00311904],\n",
       "        [ 0.01081834,  0.02429214, -0.01174645,  0.0084734 ,\n",
       "          0.04876882,  0.03538401, -0.00580823,  0.00317202,\n",
       "          0.01203392, -0.04674244]],\n",
       "\n",
       "       [[ 0.01862862,  0.02298738,  0.02792073, -0.02577894,\n",
       "         -0.03828741, -0.0226774 , -0.03469499,  0.01050657,\n",
       "          0.02804624, -0.04093133],\n",
       "        [ 0.01862862,  0.02298738,  0.02792073, -0.02577894,\n",
       "         -0.03828741, -0.0226774 , -0.03469499,  0.01050657,\n",
       "          0.02804624, -0.04093133],\n",
       "        [-0.04834611,  0.04504747, -0.01640532, -0.00036701,\n",
       "         -0.0228478 , -0.03096981, -0.00750865,  0.04421773,\n",
       "          0.03371469, -0.00334699],\n",
       "        [ 0.0457134 ,  0.02169232,  0.02918868,  0.04747568,\n",
       "          0.0319267 ,  0.02785084,  0.00122889,  0.02996378,\n",
       "          0.01593195,  0.03460244],\n",
       "        [-0.04251385, -0.02884202, -0.01441225,  0.03013433,\n",
       "          0.01608754, -0.01455642,  0.00914544,  0.02508017,\n",
       "         -0.00052094,  0.00311904],\n",
       "        [ 0.04541555, -0.03166837,  0.04413939, -0.00859153,\n",
       "         -0.00511817, -0.00414643, -0.02522641, -0.02278546,\n",
       "         -0.02114817,  0.03463102]],\n",
       "\n",
       "       [[ 0.01862862,  0.02298738,  0.02792073, -0.02577894,\n",
       "         -0.03828741, -0.0226774 , -0.03469499,  0.01050657,\n",
       "          0.02804624, -0.04093133],\n",
       "        [ 0.01862862,  0.02298738,  0.02792073, -0.02577894,\n",
       "         -0.03828741, -0.0226774 , -0.03469499,  0.01050657,\n",
       "          0.02804624, -0.04093133],\n",
       "        [-0.04834611,  0.04504747, -0.01640532, -0.00036701,\n",
       "         -0.0228478 , -0.03096981, -0.00750865,  0.04421773,\n",
       "          0.03371469, -0.00334699],\n",
       "        [-0.01231322, -0.04685324,  0.04941459,  0.03149614,\n",
       "          0.03687811, -0.04581159, -0.00363009,  0.04831943,\n",
       "         -0.0126161 ,  0.0019881 ],\n",
       "        [-0.04251385, -0.02884202, -0.01441225,  0.03013433,\n",
       "          0.01608754, -0.01455642,  0.00914544,  0.02508017,\n",
       "         -0.00052094,  0.00311904],\n",
       "        [-0.04284696,  0.00590684, -0.03789172,  0.04910839,\n",
       "          0.02319552,  0.02486441, -0.019034  , -0.03784014,\n",
       "          0.04365114,  0.04706356]],\n",
       "\n",
       "       [[ 0.01862862,  0.02298738,  0.02792073, -0.02577894,\n",
       "         -0.03828741, -0.0226774 , -0.03469499,  0.01050657,\n",
       "          0.02804624, -0.04093133],\n",
       "        [-0.04192748,  0.02267729,  0.03933389, -0.04162038,\n",
       "          0.01271288, -0.04089384,  0.03892035,  0.03358476,\n",
       "         -0.00331063, -0.02571118],\n",
       "        [-0.04411286, -0.00040728, -0.01027776,  0.01655687,\n",
       "         -0.00532927, -0.00571204,  0.04507877,  0.03867659,\n",
       "         -0.04472501,  0.04152283],\n",
       "        [-0.02165576,  0.04227794, -0.0446314 , -0.04267175,\n",
       "          0.01370177,  0.02265367, -0.02452672,  0.03017842,\n",
       "         -0.04659813, -0.04898871],\n",
       "        [-0.03207686, -0.00801783,  0.0437367 , -0.00521623,\n",
       "         -0.0353124 , -0.01237895,  0.00608493, -0.01699718,\n",
       "          0.04686222, -0.02758007],\n",
       "        [ 0.0065046 ,  0.044332  , -0.02866067,  0.04617525,\n",
       "         -0.00800569,  0.03810002,  0.00193843,  0.02514256,\n",
       "          0.00260774, -0.03644167]],\n",
       "\n",
       "       [[ 0.01862862,  0.02298738,  0.02792073, -0.02577894,\n",
       "         -0.03828741, -0.0226774 , -0.03469499,  0.01050657,\n",
       "          0.02804624, -0.04093133],\n",
       "        [-0.04192748,  0.02267729,  0.03933389, -0.04162038,\n",
       "          0.01271288, -0.04089384,  0.03892035,  0.03358476,\n",
       "         -0.00331063, -0.02571118],\n",
       "        [-0.04411286, -0.00040728, -0.01027776,  0.01655687,\n",
       "         -0.00532927, -0.00571204,  0.04507877,  0.03867659,\n",
       "         -0.04472501,  0.04152283],\n",
       "        [-0.02165576,  0.04227794, -0.0446314 , -0.04267175,\n",
       "          0.01370177,  0.02265367, -0.02452672,  0.03017842,\n",
       "         -0.04659813, -0.04898871],\n",
       "        [-0.03207686, -0.00801783,  0.0437367 , -0.00521623,\n",
       "         -0.0353124 , -0.01237895,  0.00608493, -0.01699718,\n",
       "          0.04686222, -0.02758007],\n",
       "        [ 0.01180483,  0.00383878,  0.03454684,  0.00992962,\n",
       "         -0.02550972,  0.04863978,  0.01351393, -0.04176724,\n",
       "         -0.00035639, -0.0487397 ]],\n",
       "\n",
       "       [[ 0.01862862,  0.02298738,  0.02792073, -0.02577894,\n",
       "         -0.03828741, -0.0226774 , -0.03469499,  0.01050657,\n",
       "          0.02804624, -0.04093133],\n",
       "        [ 0.00537909, -0.02206925, -0.01172847, -0.03225541,\n",
       "          0.02016831, -0.02837157, -0.02395593, -0.03879755,\n",
       "          0.01648508, -0.04701251],\n",
       "        [-0.04834611,  0.04504747, -0.01640532, -0.00036701,\n",
       "         -0.0228478 , -0.03096981, -0.00750865,  0.04421773,\n",
       "          0.03371469, -0.00334699],\n",
       "        [-0.01450974,  0.01001785,  0.01516707,  0.03087193,\n",
       "         -0.03709046,  0.04281585,  0.03727529, -0.00824411,\n",
       "          0.00449023, -0.01479297],\n",
       "        [-0.04251385, -0.02884202, -0.01441225,  0.03013433,\n",
       "          0.01608754, -0.01455642,  0.00914544,  0.02508017,\n",
       "         -0.00052094,  0.00311904],\n",
       "        [ 0.02422122,  0.01657042,  0.00518415,  0.00797404,\n",
       "          0.01710104,  0.01885165, -0.03848338,  0.0006218 ,\n",
       "         -0.00882397,  0.01122244]],\n",
       "\n",
       "       [[ 0.01862862,  0.02298738,  0.02792073, -0.02577894,\n",
       "         -0.03828741, -0.0226774 , -0.03469499,  0.01050657,\n",
       "          0.02804624, -0.04093133],\n",
       "        [ 0.01862862,  0.02298738,  0.02792073, -0.02577894,\n",
       "         -0.03828741, -0.0226774 , -0.03469499,  0.01050657,\n",
       "          0.02804624, -0.04093133],\n",
       "        [ 0.04504934,  0.02166754,  0.01884996, -0.02987179,\n",
       "          0.04833087, -0.04466447,  0.02198694, -0.01268448,\n",
       "          0.04468637, -0.03250181],\n",
       "        [ 0.01195841,  0.00883043, -0.02585813, -0.02231007,\n",
       "         -0.02388841, -0.00729588,  0.03632632, -0.02206035,\n",
       "          0.0288087 ,  0.0227873 ],\n",
       "        [-0.0252965 , -0.02862545, -0.04082893,  0.01307129,\n",
       "         -0.01642927,  0.0335269 , -0.03849143,  0.00250889,\n",
       "          0.01534131,  0.0434279 ],\n",
       "        [-0.03207686, -0.00801783,  0.0437367 , -0.00521623,\n",
       "         -0.0353124 , -0.01237895,  0.00608493, -0.01699718,\n",
       "          0.04686222, -0.02758007]]], dtype=float32)"
      ]
     },
     "execution_count": 18,
     "metadata": {},
     "output_type": "execute_result"
    }
   ],
   "source": [
    "hist"
   ]
  },
  {
   "cell_type": "code",
   "execution_count": null,
   "metadata": {
    "id": "ncuwtgtLzI7k"
   },
   "outputs": [],
   "source": []
  }
 ],
 "metadata": {
  "colab": {
   "provenance": []
  },
  "kernelspec": {
   "display_name": "Python 3 (ipykernel)",
   "language": "python",
   "name": "python3"
  },
  "language_info": {
   "codemirror_mode": {
    "name": "ipython",
    "version": 3
   },
   "file_extension": ".py",
   "mimetype": "text/x-python",
   "name": "python",
   "nbconvert_exporter": "python",
   "pygments_lexer": "ipython3",
   "version": "3.9.18"
  }
 },
 "nbformat": 4,
 "nbformat_minor": 1
}
